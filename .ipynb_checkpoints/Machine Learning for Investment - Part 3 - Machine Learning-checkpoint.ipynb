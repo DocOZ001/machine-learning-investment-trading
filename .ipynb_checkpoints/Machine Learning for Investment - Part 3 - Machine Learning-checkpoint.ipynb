{
 "cells": [
  {
   "cell_type": "code",
   "execution_count": 31,
   "metadata": {
    "collapsed": true
   },
   "outputs": [],
   "source": [
    "%matplotlib inline\n",
    "import numpy as np\n",
    "import matplotlib.pyplot as plt\n",
    "from sklearn import svm, preprocessing\n",
    "import pandas as pd\n",
    "from matplotlib import style\n",
    "style.use(\"ggplot\")"
   ]
  },
  {
   "cell_type": "code",
   "execution_count": 26,
   "metadata": {
    "collapsed": false
   },
   "outputs": [
    {
     "name": "stdout",
     "output_type": "stream",
     "text": [
      "[[ 54.36   16.18 ]\n",
      " [ 44.12   13.75 ]\n",
      " [ 56.39   17.74 ]\n",
      " [  0.595  24.92 ]\n",
      " [  0.561  20.88 ]]\n",
      "[1, 0, 0, 0, 0]\n"
     ]
    }
   ],
   "source": [
    "def build_data_set(features=['DE Ratio','Trailing P/E']):\n",
    "    data_df = pd.DataFrame.from_csv('key_stats.csv')[:100]\n",
    "    X = np.array(data_df[features])\n",
    "    print(X[:5])\n",
    "    y = list(data_df[\"Status\"].replace(\"underperform\",0).replace(\"outperform\",1))\n",
    "    print(y[:5])\n",
    "    \n",
    "    return X,y\n",
    "s = build_data_set()"
   ]
  },
  {
   "cell_type": "code",
   "execution_count": 27,
   "metadata": {
    "collapsed": false
   },
   "outputs": [
    {
     "name": "stdout",
     "output_type": "stream",
     "text": [
      "[[ 54.36   16.18 ]\n",
      " [ 44.12   13.75 ]\n",
      " [ 56.39   17.74 ]\n",
      " [  0.595  24.92 ]\n",
      " [  0.561  20.88 ]]\n",
      "[1, 0, 0, 0, 0]\n"
     ]
    },
    {
     "data": {
      "image/png": "[encoded data removed]",
      "text/plain": [
       "<matplotlib.figure.Figure at 0x107314908>"
      ]
     },
     "metadata": {},
     "output_type": "display_data"
    }
   ],
   "source": [
    "def analysis():\n",
    "    X,y = build_data_set()\n",
    "    clf = svm.SVC(kernel='linear')\n",
    "    clf.fit(X,y)\n",
    "    w = clf.coef_[0]\n",
    "    a = -w[0]/w[1]\n",
    "    xx = np.linspace(min(X[:,0]), max(X[:,0]))\n",
    "    yy = a * xx - clf.intercept_[0] / w[1]\n",
    "    plt.plot(xx,yy,\"k-\",label='non weighted')\n",
    "    plt.scatter(X[:,0],X[:,1],c=y)\n",
    "    plt.xlabel('DE Ratio')\n",
    "    plt.ylabel('Trailing P/E')\n",
    "    plt.legend()\n",
    "    plt.show\n",
    "\n",
    "analysis()"
   ]
  },
  {
   "cell_type": "code",
   "execution_count": 33,
   "metadata": {
    "collapsed": false
   },
   "outputs": [
    {
     "data": {
      "text/plain": [
       "array([[    0.,   100.],\n",
       "       [    2.,  -400.],\n",
       "       [   -1.,  1000.]])"
      ]
     },
     "execution_count": 33,
     "metadata": {},
     "output_type": "execute_result"
    }
   ],
   "source": [
    "arr = np.array([[0,100],[2,-400],[-1,1000]]).astype('float')\n",
    "arr"
   ]
  },
  {
   "cell_type": "code",
   "execution_count": 34,
   "metadata": {
    "collapsed": false
   },
   "outputs": [
    {
     "name": "stdout",
     "output_type": "stream",
     "text": [
      "[[-0.26726124 -0.23017414]\n",
      " [ 1.33630621 -1.09332714]\n",
      " [-1.06904497  1.32350128]]\n"
     ]
    }
   ],
   "source": [
    "print(preprocessing.scale(arr))"
   ]
  },
  {
   "cell_type": "code",
   "execution_count": 36,
   "metadata": {
    "collapsed": false
   },
   "outputs": [
    {
     "name": "stdout",
     "output_type": "stream",
     "text": [
      "[[  0.00000000e+00   1.00000000e+00]\n",
      " [  4.99993750e-03  -9.99987500e-01]\n",
      " [ -9.99999500e-04   9.99999500e-01]]\n"
     ]
    }
   ],
   "source": [
    "print(preprocessing.normalize(arr))"
   ]
  },
  {
   "cell_type": "code",
   "execution_count": 50,
   "metadata": {
    "collapsed": false
   },
   "outputs": [
    {
     "name": "stdout",
     "output_type": "stream",
     "text": [
      "means of each feature [   0.33333333  233.33333333]\n",
      "std of features [   1.24721913  579.27157323]\n",
      "zero mean\n",
      " [[  -0.33333333 -133.33333333]\n",
      " [   1.66666667 -633.33333333]\n",
      " [  -1.33333333  766.66666667]]\n",
      "divide by std\n",
      " [[-0.26726124 -0.23017414]\n",
      " [ 1.33630621 -1.09332714]\n",
      " [-1.06904497  1.32350128]]\n"
     ]
    }
   ],
   "source": [
    "np.set_printoptions(suppress=True) # For suppressing scientific display of numpy arrays\n",
    "print('means of each feature',arr.mean(axis=0))  # if axis is not specified, mean of entire arr\n",
    "print('std of features',arr.std(axis=0))\n",
    "sub = arr - arr.mean(axis=0)\n",
    "print('zero mean\\n',sub)\n",
    "print('divide by std\\n',sub/arr.std(axis=0))"
   ]
  },
  {
   "cell_type": "markdown",
   "metadata": {},
   "source": [
    "This is the same as `preprocessing.scale()` output"
   ]
  }
 ],
 "metadata": {
  "kernelspec": {
   "display_name": "Python 3",
   "language": "python",
   "name": "python3"
  },
  "language_info": {
   "codemirror_mode": {
    "name": "ipython",
    "version": 3
   },
   "file_extension": ".py",
   "mimetype": "text/x-python",
   "name": "python",
   "nbconvert_exporter": "python",
   "pygments_lexer": "ipython3",
   "version": "3.4.3"
  }
 },
 "nbformat": 4,
 "nbformat_minor": 0
}
