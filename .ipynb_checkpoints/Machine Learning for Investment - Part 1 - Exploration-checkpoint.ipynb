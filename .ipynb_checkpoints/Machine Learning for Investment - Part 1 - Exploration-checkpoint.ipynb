{
 "cells": [
  {
   "cell_type": "markdown",
   "metadata": {},
   "source": [
    "Reference https://youtu.be/KTeVOb8gaD4?list=PLQVvvaa0QuDd0flgGphKCej-9jp-QdzZ3\n",
    "\n",
    "###Basic Setup and Test - Character Recognition"
   ]
  },
  {
   "cell_type": "code",
   "execution_count": 1,
   "metadata": {
    "collapsed": true
   },
   "outputs": [],
   "source": [
    "%matplotlib inline\n",
    "import matplotlib.pyplot as plt\n",
    "from matplotlib import style\n",
    "style.use('dark_background')\n",
    "import numpy as np\n",
    "from sklearn import datasets\n",
    "from sklearn import svm\n",
    "import re"
   ]
  },
  {
   "cell_type": "code",
   "execution_count": 2,
   "metadata": {
    "collapsed": false
   },
   "outputs": [
    {
     "data": {
      "text/plain": [
       "(1797, 64)"
      ]
     },
     "execution_count": 2,
     "metadata": {},
     "output_type": "execute_result"
    }
   ],
   "source": [
    "digits = datasets.load_digits()\n",
    "digits.data.shape"
   ]
  },
  {
   "cell_type": "code",
   "execution_count": 3,
   "metadata": {
    "collapsed": false
   },
   "outputs": [],
   "source": [
    "clf = svm.SVC(C = 100, gamma = 0.001)"
   ]
  },
  {
   "cell_type": "code",
   "execution_count": 4,
   "metadata": {
    "collapsed": false
   },
   "outputs": [
    {
     "data": {
      "text/plain": [
       "SVC(C=100, cache_size=200, class_weight=None, coef0=0.0, degree=3,\n",
       "  gamma=0.001, kernel='rbf', max_iter=-1, probability=False,\n",
       "  random_state=None, shrinking=True, tol=0.001, verbose=False)"
      ]
     },
     "execution_count": 4,
     "metadata": {},
     "output_type": "execute_result"
    }
   ],
   "source": [
    "X,y = digits.data[:-1], digits.target[:-1]\n",
    "# The last instance is held out for testing\n",
    "clf.fit(X,y)"
   ]
  },
  {
   "cell_type": "code",
   "execution_count": 5,
   "metadata": {
    "collapsed": false
   },
   "outputs": [
    {
     "name": "stdout",
     "output_type": "stream",
     "text": [
      "Prediction: [8]\n"
     ]
    },
    {
     "data": {
      "text/plain": [
       "<matplotlib.image.AxesImage at 0x10a6cd128>"
      ]
     },
     "execution_count": 5,
     "metadata": {},
     "output_type": "execute_result"
    },
    {
     "data": {
      "image/png": "[encoded data removed]",
      "text/plain": [
       "<matplotlib.figure.Figure at 0x10a977eb8>"
      ]
     },
     "metadata": {},
     "output_type": "display_data"
    }
   ],
   "source": [
    "print('Prediction:',clf.predict(digits.data[-1]))\n",
    "plt.imshow(digits.images[-1], cmap=plt.cm.gray_r)"
   ]
  },
  {
   "cell_type": "code",
   "execution_count": 6,
   "metadata": {
    "collapsed": false
   },
   "outputs": [
    {
     "data": {
      "text/plain": [
       "SVC(C=100, cache_size=200, class_weight=None, coef0=0.0, degree=3,\n",
       "  gamma=0.001, kernel='rbf', max_iter=-1, probability=False,\n",
       "  random_state=None, shrinking=True, tol=0.001, verbose=False)"
      ]
     },
     "execution_count": 6,
     "metadata": {},
     "output_type": "execute_result"
    }
   ],
   "source": [
    "X_train,y_train = digits.data[:-10], digits.target[:-10]\n",
    "clf.fit(X_train,y_train)"
   ]
  },
  {
   "cell_type": "code",
   "execution_count": 7,
   "metadata": {
    "collapsed": false
   },
   "outputs": [
    {
     "data": {
      "text/plain": [
       "array([5, 4, 8, 8, 4, 9, 0, 8, 9, 8])"
      ]
     },
     "execution_count": 7,
     "metadata": {},
     "output_type": "execute_result"
    }
   ],
   "source": [
    "X_test,y_test = digits.data[-10:], digits.target[-10:]\n",
    "clf.predict(X_test)"
   ]
  },
  {
   "cell_type": "code",
   "execution_count": 8,
   "metadata": {
    "collapsed": false
   },
   "outputs": [
    {
     "name": "stdout",
     "output_type": "stream",
     "text": [
      "[5 4 8 8 4 9 0 8 9 8]\n"
     ]
    }
   ],
   "source": [
    "print(y_test)"
   ]
  },
  {
   "cell_type": "code",
   "execution_count": 9,
   "metadata": {
    "collapsed": false
   },
   "outputs": [
    {
     "data": {
      "text/plain": [
       "1.0"
      ]
     },
     "execution_count": 9,
     "metadata": {},
     "output_type": "execute_result"
    }
   ],
   "source": [
    "np.mean(clf.predict(X_test) == y_test)"
   ]
  },
  {
   "cell_type": "markdown",
   "metadata": {},
   "source": [
    "##Obtaining data\n",
    "\n",
    "If you scrape super fast, the company might sue you for doing DoS attack. So, be careful. Even ask the company for data\n",
    "\n",
    "Important Features  \n",
    "P/E Ratio - Price to earnings ratio  \n",
    "Debt to Equity Ratio  \n",
    "Stock price\n",
    "\n",
    "Import the data"
   ]
  },
  {
   "cell_type": "code",
   "execution_count": 10,
   "metadata": {
    "collapsed": true
   },
   "outputs": [],
   "source": [
    "import pandas as pd\n",
    "import os\n",
    "import time\n",
    "from datetime import datetime"
   ]
  },
  {
   "cell_type": "code",
   "execution_count": 34,
   "metadata": {
    "collapsed": false
   },
   "outputs": [
    {
     "name": "stdout",
     "output_type": "stream",
     "text": [
      "underperform\n",
      "underperform\n",
      "outperform\n",
      "underperform\n",
      "underperform\n",
      "underperform\n",
      "outperform\n",
      "underperform\n",
      "outperform\n",
      "underperform\n",
      "underperform\n",
      "underperform\n",
      "outperform\n",
      "underperform\n",
      "outperform\n",
      "underperform\n",
      "underperform\n",
      "outperform\n",
      "underperform\n",
      "underperform\n",
      "underperform\n",
      "underperform\n",
      "underperform\n",
      "underperform\n",
      "TotalDebtEquitymrq.csv\n"
     ]
    },
    {
     "data": {
      "image/png": "[encoded data removed]",
      "text/plain": [
       "<matplotlib.figure.Figure at 0x10d7ba3c8>"
      ]
     },
     "metadata": {},
     "output_type": "display_data"
    }
   ],
   "source": [
    "path ='IntraQuarter'\n",
    "def Key_Stats(gather='Total Debt/Equity (mrq)'):\n",
    "    statspath = path+'/_KeyStats'\n",
    "    stock_list = [x[0] for x in os.walk(statspath)]\n",
    "    df = pd.DataFrame(columns = ['Date','Unix','Ticker','DE Ratio','Price',\n",
    "                                 'stock_p_change','SP500','sp500_p_change',\n",
    "                                 'difference','status'])\n",
    "    sp500_df = pd.DataFrame.from_csv('YAHOO-INDEX_GSPC.csv')\n",
    "    ticker_list=[]\n",
    "    \n",
    "    for each_dir in stock_list[1:25]:\n",
    "        each_file = os.listdir(each_dir)\n",
    "        ticker = each_dir.split('/')[2]\n",
    "        ticker_list.append(ticker)\n",
    "        \n",
    "        starting_stock_value = False\n",
    "        starting_sp500_value = False\n",
    "        \n",
    "        if len(each_file) > 0:\n",
    "            for file in each_file:\n",
    "                date_stamp = datetime.strptime(file,'%Y%m%d%H%M%S.html')\n",
    "                unix_time = time.mktime(date_stamp.timetuple())\n",
    "                source = open(each_dir+'/'+file).read()\n",
    "                try:\n",
    "                    try:\n",
    "                        value = float(source.split(gather+':</td><td class=\"yfnc_tabledata1\">')[1].split('</td>')[0])\n",
    "                    except Exception as e:\n",
    "                        #print(e,ticker,file)\n",
    "                        value = float(source.split(gather+':</td>\\n<td class=\"yfnc_tabledata1\">')[1].split('</td>')[0])\n",
    "                        #print(value)\n",
    "                    \n",
    "                    try:\n",
    "                        sp500_date = datetime.fromtimestamp(unix_time).strftime('%Y-%m-%d')\n",
    "                        row = sp500_df.ix[sp500_date]\n",
    "                        sp500_value = float(row[\"Adjusted Close\"])\n",
    "                    except:\n",
    "                        sp500_date = datetime.fromtimestamp(unix_time - 259200).strftime('%Y-%m-%d')\n",
    "                        row = sp500_df.ix[sp500_date]\n",
    "                        sp500_value = float(row[\"Adjusted Close\"])\n",
    "                    \n",
    "                    try:\n",
    "                        stock_price = float(source.split('</small><big><b>')[1].split('</b')[0])\n",
    "                    except Exception as e:\n",
    "                        try:\n",
    "                            stock_price = (source.split('</small><big><b>')[1].split('</b')[0])\n",
    "                            stock_price = re.search(r'(\\d{1,8}\\.\\d{1,8})',stock_price)\n",
    "                            stock_price = float(stock_price.group(1))\n",
    "                            #print(e, ticker, file)\n",
    "                            #print(stock_price)\n",
    "                        except:\n",
    "                            pass\n",
    "                        \n",
    "                    if not starting_stock_value:\n",
    "                        starting_stock_value = stock_price\n",
    "                    if not starting_sp500_value:\n",
    "                        starting_sp500_value = sp500_value\n",
    "                    \n",
    "                    stock_p_change = 100 * (stock_price - starting_stock_value)/starting_stock_value\n",
    "                    sp500_p_change = 100 * (sp500_value - starting_sp500_value)/starting_sp500_value\n",
    "                    \n",
    "                    difference = stock_p_change - sp500_p_change\n",
    "                    status = \"outperform\" if difference > 0 else \"underperform\"\n",
    "                    \n",
    "                    df = df.append({'Date':date_stamp, \n",
    "                                    'Unix':unix_time, \n",
    "                                    'Ticker':ticker, \n",
    "                                    'DE Ratio':value,\n",
    "                                    'Price':stock_price,\n",
    "                                    'stock_p_change':stock_p_change,\n",
    "                                    'SP500':sp500_value,\n",
    "                                    'sp500_p_change':sp500_p_change,\n",
    "                                    'difference':difference,\n",
    "                                    'status':status}, ignore_index = True)\n",
    "                except Exception as e:\n",
    "                    pass\n",
    "                \n",
    "                #print(ticker,':',value)\n",
    "    for each_ticker in ticker_list:\n",
    "        try:\n",
    "            plot_df = df[df['Ticker'] == each_ticker]\n",
    "            plot_df = plot_df.set_index(['Date'])\n",
    "            print(plot_df['status'][-1])\n",
    "            if plot_df['status'][-1] == \"underperform\":\n",
    "                color = 'r'\n",
    "            else:\n",
    "                color = 'g'\n",
    "            plot_df['difference'].plot(label=each_ticker,color=color)\n",
    "            plt.legend()\n",
    "        except:\n",
    "            pass\n",
    "    save = gather.replace('/','').replace(' ','').replace(')','').replace('(','')+('.csv')\n",
    "    print(save)\n",
    "    df.to_csv(save)\n",
    "Key_Stats()"
   ]
  },
  {
   "cell_type": "code",
   "execution_count": 12,
   "metadata": {
    "collapsed": false
   },
   "outputs": [
    {
     "data": {
      "text/html": [
       "<div style=\"max-height:1000px;max-width:1500px;overflow:auto;\">\n",
       "<table border=\"1\" class=\"dataframe\">\n",
       "  <thead>\n",
       "    <tr style=\"text-align: right;\">\n",
       "      <th></th>\n",
       "      <th>a</th>\n",
       "      <th>b</th>\n",
       "    </tr>\n",
       "  </thead>\n",
       "  <tbody>\n",
       "    <tr>\n",
       "      <th>0</th>\n",
       "      <td> 1</td>\n",
       "      <td> 2</td>\n",
       "    </tr>\n",
       "  </tbody>\n",
       "</table>\n",
       "</div>"
      ],
      "text/plain": [
       "   a  b\n",
       "0  1  2"
      ]
     },
     "execution_count": 12,
     "metadata": {},
     "output_type": "execute_result"
    }
   ],
   "source": [
    "df1 = pd.DataFrame(columns=['a','b'])\n",
    "df1 = df1.append({'a':1,'b':2}, ignore_index=True)\n",
    "df1"
   ]
  },
  {
   "cell_type": "code",
   "execution_count": 13,
   "metadata": {
    "collapsed": false,
    "scrolled": true
   },
   "outputs": [
    {
     "name": "stdout",
     "output_type": "stream",
     "text": [
      "['IntraQuarter/_KeyStats', 'IntraQuarter/_KeyStats/a', 'IntraQuarter/_KeyStats/aa', 'IntraQuarter/_KeyStats/aapl', 'IntraQuarter/_KeyStats/abbv', 'IntraQuarter/_KeyStats/abc', 'IntraQuarter/_KeyStats/abt', 'IntraQuarter/_KeyStats/ace', 'IntraQuarter/_KeyStats/aci', 'IntraQuarter/_KeyStats/acn', 'IntraQuarter/_KeyStats/act', 'IntraQuarter/_KeyStats/adbe', 'IntraQuarter/_KeyStats/adi', 'IntraQuarter/_KeyStats/adm', 'IntraQuarter/_KeyStats/adp', 'IntraQuarter/_KeyStats/adsk', 'IntraQuarter/_KeyStats/adt', 'IntraQuarter/_KeyStats/aee', 'IntraQuarter/_KeyStats/aeo', 'IntraQuarter/_KeyStats/aep', 'IntraQuarter/_KeyStats/aes', 'IntraQuarter/_KeyStats/aet', 'IntraQuarter/_KeyStats/afl', 'IntraQuarter/_KeyStats/agn', 'IntraQuarter/_KeyStats/aig', 'IntraQuarter/_KeyStats/aiv', 'IntraQuarter/_KeyStats/aiz', 'IntraQuarter/_KeyStats/akam', 'IntraQuarter/_KeyStats/all', 'IntraQuarter/_KeyStats/altr', 'IntraQuarter/_KeyStats/alxn', 'IntraQuarter/_KeyStats/amat', 'IntraQuarter/_KeyStats/amd', 'IntraQuarter/_KeyStats/amgn', 'IntraQuarter/_KeyStats/amp', 'IntraQuarter/_KeyStats/amt', 'IntraQuarter/_KeyStats/amzn', 'IntraQuarter/_KeyStats/an', 'IntraQuarter/_KeyStats/anf', 'IntraQuarter/_KeyStats/ann', 'IntraQuarter/_KeyStats/aon', 'IntraQuarter/_KeyStats/apa', 'IntraQuarter/_KeyStats/apc', 'IntraQuarter/_KeyStats/apd', 'IntraQuarter/_KeyStats/aph', 'IntraQuarter/_KeyStats/apol', 'IntraQuarter/_KeyStats/arg', 'IntraQuarter/_KeyStats/arna', 'IntraQuarter/_KeyStats/aro', 'IntraQuarter/_KeyStats/ati', 'IntraQuarter/_KeyStats/atvi', 'IntraQuarter/_KeyStats/avb', 'IntraQuarter/_KeyStats/avp', 'IntraQuarter/_KeyStats/avy', 'IntraQuarter/_KeyStats/axp', 'IntraQuarter/_KeyStats/azo', 'IntraQuarter/_KeyStats/ba', 'IntraQuarter/_KeyStats/bac', 'IntraQuarter/_KeyStats/bax', 'IntraQuarter/_KeyStats/bbby', 'IntraQuarter/_KeyStats/bbry', 'IntraQuarter/_KeyStats/bbt', 'IntraQuarter/_KeyStats/bby', 'IntraQuarter/_KeyStats/bcr', 'IntraQuarter/_KeyStats/bdx', 'IntraQuarter/_KeyStats/beam', 'IntraQuarter/_KeyStats/ben', 'IntraQuarter/_KeyStats/bf-b', 'IntraQuarter/_KeyStats/bhi', 'IntraQuarter/_KeyStats/big', 'IntraQuarter/_KeyStats/biib', 'IntraQuarter/_KeyStats/bk', 'IntraQuarter/_KeyStats/bks', 'IntraQuarter/_KeyStats/blk', 'IntraQuarter/_KeyStats/bll', 'IntraQuarter/_KeyStats/bmc', 'IntraQuarter/_KeyStats/bms', 'IntraQuarter/_KeyStats/bmy', 'IntraQuarter/_KeyStats/brcm', 'IntraQuarter/_KeyStats/brk-b', 'IntraQuarter/_KeyStats/bsx', 'IntraQuarter/_KeyStats/btu', 'IntraQuarter/_KeyStats/bwa', 'IntraQuarter/_KeyStats/bxp', 'IntraQuarter/_KeyStats/c', 'IntraQuarter/_KeyStats/ca', 'IntraQuarter/_KeyStats/cab', 'IntraQuarter/_KeyStats/cag', 'IntraQuarter/_KeyStats/cah', 'IntraQuarter/_KeyStats/cam', 'IntraQuarter/_KeyStats/camp', 'IntraQuarter/_KeyStats/cat', 'IntraQuarter/_KeyStats/cb', 'IntraQuarter/_KeyStats/cbg', 'IntraQuarter/_KeyStats/cbs', 'IntraQuarter/_KeyStats/cce', 'IntraQuarter/_KeyStats/cci', 'IntraQuarter/_KeyStats/ccl', 'IntraQuarter/_KeyStats/celg', 'IntraQuarter/_KeyStats/cern', 'IntraQuarter/_KeyStats/cf', 'IntraQuarter/_KeyStats/cfn', 'IntraQuarter/_KeyStats/chk', 'IntraQuarter/_KeyStats/chrw', 'IntraQuarter/_KeyStats/ci', 'IntraQuarter/_KeyStats/cim', 'IntraQuarter/_KeyStats/cinf', 'IntraQuarter/_KeyStats/cl', 'IntraQuarter/_KeyStats/cldx', 'IntraQuarter/_KeyStats/clf', 'IntraQuarter/_KeyStats/clx', 'IntraQuarter/_KeyStats/cma', 'IntraQuarter/_KeyStats/cmcsa', 'IntraQuarter/_KeyStats/cme', 'IntraQuarter/_KeyStats/cmg', 'IntraQuarter/_KeyStats/cmi', 'IntraQuarter/_KeyStats/cms', 'IntraQuarter/_KeyStats/cnp', 'IntraQuarter/_KeyStats/cnx', 'IntraQuarter/_KeyStats/cof', 'IntraQuarter/_KeyStats/cog', 'IntraQuarter/_KeyStats/coh', 'IntraQuarter/_KeyStats/col', 'IntraQuarter/_KeyStats/cop', 'IntraQuarter/_KeyStats/cost', 'IntraQuarter/_KeyStats/cov', 'IntraQuarter/_KeyStats/cpb', 'IntraQuarter/_KeyStats/crm', 'IntraQuarter/_KeyStats/csc', 'IntraQuarter/_KeyStats/csco', 'IntraQuarter/_KeyStats/csx', 'IntraQuarter/_KeyStats/ctas', 'IntraQuarter/_KeyStats/ctl', 'IntraQuarter/_KeyStats/ctsh', 'IntraQuarter/_KeyStats/ctxs', 'IntraQuarter/_KeyStats/cvc', 'IntraQuarter/_KeyStats/cvs', 'IntraQuarter/_KeyStats/cvx', 'IntraQuarter/_KeyStats/d', 'IntraQuarter/_KeyStats/dal', 'IntraQuarter/_KeyStats/dd', 'IntraQuarter/_KeyStats/dds', 'IntraQuarter/_KeyStats/de', 'IntraQuarter/_KeyStats/dell', 'IntraQuarter/_KeyStats/df', 'IntraQuarter/_KeyStats/dfs', 'IntraQuarter/_KeyStats/dg', 'IntraQuarter/_KeyStats/dgx', 'IntraQuarter/_KeyStats/dhi', 'IntraQuarter/_KeyStats/dhr', 'IntraQuarter/_KeyStats/dis', 'IntraQuarter/_KeyStats/disca', 'IntraQuarter/_KeyStats/dks', 'IntraQuarter/_KeyStats/dlph', 'IntraQuarter/_KeyStats/dltr', 'IntraQuarter/_KeyStats/dlx', 'IntraQuarter/_KeyStats/dnb', 'IntraQuarter/_KeyStats/dnr', 'IntraQuarter/_KeyStats/do', 'IntraQuarter/_KeyStats/dov', 'IntraQuarter/_KeyStats/dow', 'IntraQuarter/_KeyStats/dps', 'IntraQuarter/_KeyStats/dri', 'IntraQuarter/_KeyStats/dsw', 'IntraQuarter/_KeyStats/dte', 'IntraQuarter/_KeyStats/dtv', 'IntraQuarter/_KeyStats/duk', 'IntraQuarter/_KeyStats/dva', 'IntraQuarter/_KeyStats/dvn', 'IntraQuarter/_KeyStats/ea', 'IntraQuarter/_KeyStats/ebay', 'IntraQuarter/_KeyStats/ecl', 'IntraQuarter/_KeyStats/ecyt', 'IntraQuarter/_KeyStats/ed', 'IntraQuarter/_KeyStats/efx', 'IntraQuarter/_KeyStats/eix', 'IntraQuarter/_KeyStats/el', 'IntraQuarter/_KeyStats/emc', 'IntraQuarter/_KeyStats/emn', 'IntraQuarter/_KeyStats/emr', 'IntraQuarter/_KeyStats/eog', 'IntraQuarter/_KeyStats/eqr', 'IntraQuarter/_KeyStats/eqt', 'IntraQuarter/_KeyStats/esrx', 'IntraQuarter/_KeyStats/esv', 'IntraQuarter/_KeyStats/etfc', 'IntraQuarter/_KeyStats/etn', 'IntraQuarter/_KeyStats/etr', 'IntraQuarter/_KeyStats/ew', 'IntraQuarter/_KeyStats/exc', 'IntraQuarter/_KeyStats/expd', 'IntraQuarter/_KeyStats/expe', 'IntraQuarter/_KeyStats/expr', 'IntraQuarter/_KeyStats/f', 'IntraQuarter/_KeyStats/fast', 'IntraQuarter/_KeyStats/fb', 'IntraQuarter/_KeyStats/fcx', 'IntraQuarter/_KeyStats/fdo', 'IntraQuarter/_KeyStats/fdx', 'IntraQuarter/_KeyStats/fe', 'IntraQuarter/_KeyStats/ffiv', 'IntraQuarter/_KeyStats/fhn', 'IntraQuarter/_KeyStats/fis', 'IntraQuarter/_KeyStats/fisv', 'IntraQuarter/_KeyStats/fitb', 'IntraQuarter/_KeyStats/fl', 'IntraQuarter/_KeyStats/flir', 'IntraQuarter/_KeyStats/flr', 'IntraQuarter/_KeyStats/fls', 'IntraQuarter/_KeyStats/flws', 'IntraQuarter/_KeyStats/fmc', 'IntraQuarter/_KeyStats/fosl', 'IntraQuarter/_KeyStats/frx', 'IntraQuarter/_KeyStats/fslr', 'IntraQuarter/_KeyStats/fti', 'IntraQuarter/_KeyStats/ftr', 'IntraQuarter/_KeyStats/gas', 'IntraQuarter/_KeyStats/gci', 'IntraQuarter/_KeyStats/gd', 'IntraQuarter/_KeyStats/ge', 'IntraQuarter/_KeyStats/ges', 'IntraQuarter/_KeyStats/gild', 'IntraQuarter/_KeyStats/gis', 'IntraQuarter/_KeyStats/glw', 'IntraQuarter/_KeyStats/gm', 'IntraQuarter/_KeyStats/gmcr', 'IntraQuarter/_KeyStats/gme', 'IntraQuarter/_KeyStats/gnw', 'IntraQuarter/_KeyStats/goog', 'IntraQuarter/_KeyStats/gpc', 'IntraQuarter/_KeyStats/gps', 'IntraQuarter/_KeyStats/grmn', 'IntraQuarter/_KeyStats/grpn', 'IntraQuarter/_KeyStats/gs', 'IntraQuarter/_KeyStats/gt', 'IntraQuarter/_KeyStats/gtn', 'IntraQuarter/_KeyStats/gww', 'IntraQuarter/_KeyStats/hal', 'IntraQuarter/_KeyStats/har', 'IntraQuarter/_KeyStats/has', 'IntraQuarter/_KeyStats/hban', 'IntraQuarter/_KeyStats/hcbk', 'IntraQuarter/_KeyStats/hcn', 'IntraQuarter/_KeyStats/hcp', 'IntraQuarter/_KeyStats/hd', 'IntraQuarter/_KeyStats/hes', 'IntraQuarter/_KeyStats/hig', 'IntraQuarter/_KeyStats/hog', 'IntraQuarter/_KeyStats/hon', 'IntraQuarter/_KeyStats/hot', 'IntraQuarter/_KeyStats/hov', 'IntraQuarter/_KeyStats/hp', 'IntraQuarter/_KeyStats/hpq', 'IntraQuarter/_KeyStats/hrb', 'IntraQuarter/_KeyStats/hrl', 'IntraQuarter/_KeyStats/hrs', 'IntraQuarter/_KeyStats/hsp', 'IntraQuarter/_KeyStats/hst', 'IntraQuarter/_KeyStats/hsy', 'IntraQuarter/_KeyStats/htz', 'IntraQuarter/_KeyStats/hum', 'IntraQuarter/_KeyStats/ibm', 'IntraQuarter/_KeyStats/ice', 'IntraQuarter/_KeyStats/iff', 'IntraQuarter/_KeyStats/igt', 'IntraQuarter/_KeyStats/intc', 'IntraQuarter/_KeyStats/intu', 'IntraQuarter/_KeyStats/ip', 'IntraQuarter/_KeyStats/ipg', 'IntraQuarter/_KeyStats/ir', 'IntraQuarter/_KeyStats/irm', 'IntraQuarter/_KeyStats/isrg', 'IntraQuarter/_KeyStats/itw', 'IntraQuarter/_KeyStats/ivz', 'IntraQuarter/_KeyStats/jbl', 'IntraQuarter/_KeyStats/jci', 'IntraQuarter/_KeyStats/jcp', 'IntraQuarter/_KeyStats/jdsu', 'IntraQuarter/_KeyStats/jec', 'IntraQuarter/_KeyStats/jnj', 'IntraQuarter/_KeyStats/jnpr', 'IntraQuarter/_KeyStats/josb', 'IntraQuarter/_KeyStats/joy', 'IntraQuarter/_KeyStats/jpm', 'IntraQuarter/_KeyStats/jwn', 'IntraQuarter/_KeyStats/k', 'IntraQuarter/_KeyStats/key', 'IntraQuarter/_KeyStats/kim', 'IntraQuarter/_KeyStats/klac', 'IntraQuarter/_KeyStats/kmb', 'IntraQuarter/_KeyStats/kmi', 'IntraQuarter/_KeyStats/kmx', 'IntraQuarter/_KeyStats/ko', 'IntraQuarter/_KeyStats/kr', 'IntraQuarter/_KeyStats/krft', 'IntraQuarter/_KeyStats/kss', 'IntraQuarter/_KeyStats/ksu', 'IntraQuarter/_KeyStats/l', 'IntraQuarter/_KeyStats/leg', 'IntraQuarter/_KeyStats/len', 'IntraQuarter/_KeyStats/lh', 'IntraQuarter/_KeyStats/life', 'IntraQuarter/_KeyStats/lll', 'IntraQuarter/_KeyStats/lltc', 'IntraQuarter/_KeyStats/lly', 'IntraQuarter/_KeyStats/lm', 'IntraQuarter/_KeyStats/lmt', 'IntraQuarter/_KeyStats/lnc', 'IntraQuarter/_KeyStats/lo', 'IntraQuarter/_KeyStats/low', 'IntraQuarter/_KeyStats/lrcx', 'IntraQuarter/_KeyStats/lsi', 'IntraQuarter/_KeyStats/ltd', 'IntraQuarter/_KeyStats/luk', 'IntraQuarter/_KeyStats/luv', 'IntraQuarter/_KeyStats/lyb', 'IntraQuarter/_KeyStats/m', 'IntraQuarter/_KeyStats/ma', 'IntraQuarter/_KeyStats/mac', 'IntraQuarter/_KeyStats/mar', 'IntraQuarter/_KeyStats/mas', 'IntraQuarter/_KeyStats/mat', 'IntraQuarter/_KeyStats/mcd', 'IntraQuarter/_KeyStats/mchp', 'IntraQuarter/_KeyStats/mck', 'IntraQuarter/_KeyStats/mco', 'IntraQuarter/_KeyStats/mcp', 'IntraQuarter/_KeyStats/mdlz', 'IntraQuarter/_KeyStats/mdt', 'IntraQuarter/_KeyStats/met', 'IntraQuarter/_KeyStats/mgm', 'IntraQuarter/_KeyStats/mhfi', 'IntraQuarter/_KeyStats/mjn', 'IntraQuarter/_KeyStats/mkc', 'IntraQuarter/_KeyStats/mmc', 'IntraQuarter/_KeyStats/mmm', 'IntraQuarter/_KeyStats/mnst', 'IntraQuarter/_KeyStats/mo', 'IntraQuarter/_KeyStats/molx', 'IntraQuarter/_KeyStats/mon', 'IntraQuarter/_KeyStats/mos', 'IntraQuarter/_KeyStats/mpc', 'IntraQuarter/_KeyStats/mrk', 'IntraQuarter/_KeyStats/mro', 'IntraQuarter/_KeyStats/ms', 'IntraQuarter/_KeyStats/msft', 'IntraQuarter/_KeyStats/msi', 'IntraQuarter/_KeyStats/mtb', 'IntraQuarter/_KeyStats/mu', 'IntraQuarter/_KeyStats/mur', 'IntraQuarter/_KeyStats/mwv', 'IntraQuarter/_KeyStats/myl', 'IntraQuarter/_KeyStats/nbl', 'IntraQuarter/_KeyStats/nbr', 'IntraQuarter/_KeyStats/ndaq', 'IntraQuarter/_KeyStats/ne', 'IntraQuarter/_KeyStats/nee', 'IntraQuarter/_KeyStats/nem', 'IntraQuarter/_KeyStats/nflx', 'IntraQuarter/_KeyStats/nfx', 'IntraQuarter/_KeyStats/ni', 'IntraQuarter/_KeyStats/nile', 'IntraQuarter/_KeyStats/nke', 'IntraQuarter/_KeyStats/nly', 'IntraQuarter/_KeyStats/noc', 'IntraQuarter/_KeyStats/nok', 'IntraQuarter/_KeyStats/nov', 'IntraQuarter/_KeyStats/nrg', 'IntraQuarter/_KeyStats/nsc', 'IntraQuarter/_KeyStats/ntap', 'IntraQuarter/_KeyStats/ntri', 'IntraQuarter/_KeyStats/ntrs', 'IntraQuarter/_KeyStats/nu', 'IntraQuarter/_KeyStats/nue', 'IntraQuarter/_KeyStats/nus', 'IntraQuarter/_KeyStats/nvda', 'IntraQuarter/_KeyStats/nwl', 'IntraQuarter/_KeyStats/nwsa', 'IntraQuarter/_KeyStats/nyx', 'IntraQuarter/_KeyStats/oi', 'IntraQuarter/_KeyStats/oke', 'IntraQuarter/_KeyStats/omc', 'IntraQuarter/_KeyStats/orcl', 'IntraQuarter/_KeyStats/orly', 'IntraQuarter/_KeyStats/oxy', 'IntraQuarter/_KeyStats/p', 'IntraQuarter/_KeyStats/payx', 'IntraQuarter/_KeyStats/pbct', 'IntraQuarter/_KeyStats/pbi', 'IntraQuarter/_KeyStats/pcar', 'IntraQuarter/_KeyStats/pcg', 'IntraQuarter/_KeyStats/pcl', 'IntraQuarter/_KeyStats/pcln', 'IntraQuarter/_KeyStats/pcp', 'IntraQuarter/_KeyStats/pdco', 'IntraQuarter/_KeyStats/peg', 'IntraQuarter/_KeyStats/pep', 'IntraQuarter/_KeyStats/petm', 'IntraQuarter/_KeyStats/pets', 'IntraQuarter/_KeyStats/pfe', 'IntraQuarter/_KeyStats/pfg', 'IntraQuarter/_KeyStats/pg', 'IntraQuarter/_KeyStats/pgr', 'IntraQuarter/_KeyStats/ph', 'IntraQuarter/_KeyStats/phm', 'IntraQuarter/_KeyStats/pki', 'IntraQuarter/_KeyStats/pld', 'IntraQuarter/_KeyStats/pll', 'IntraQuarter/_KeyStats/pm', 'IntraQuarter/_KeyStats/pnc', 'IntraQuarter/_KeyStats/pnr', 'IntraQuarter/_KeyStats/pnw', 'IntraQuarter/_KeyStats/pom', 'IntraQuarter/_KeyStats/ppg', 'IntraQuarter/_KeyStats/ppl', 'IntraQuarter/_KeyStats/prgo', 'IntraQuarter/_KeyStats/pru', 'IntraQuarter/_KeyStats/psa', 'IntraQuarter/_KeyStats/psx', 'IntraQuarter/_KeyStats/pvtb', 'IntraQuarter/_KeyStats/pwr', 'IntraQuarter/_KeyStats/px', 'IntraQuarter/_KeyStats/pxd', 'IntraQuarter/_KeyStats/qcom', 'IntraQuarter/_KeyStats/qdel', 'IntraQuarter/_KeyStats/qep', 'IntraQuarter/_KeyStats/r', 'IntraQuarter/_KeyStats/rai', 'IntraQuarter/_KeyStats/rdc', 'IntraQuarter/_KeyStats/rf', 'IntraQuarter/_KeyStats/rhi', 'IntraQuarter/_KeyStats/rht', 'IntraQuarter/_KeyStats/rl', 'IntraQuarter/_KeyStats/rok', 'IntraQuarter/_KeyStats/rop', 'IntraQuarter/_KeyStats/rost', 'IntraQuarter/_KeyStats/rrc', 'IntraQuarter/_KeyStats/rsg', 'IntraQuarter/_KeyStats/rsh', 'IntraQuarter/_KeyStats/rtn', 'IntraQuarter/_KeyStats/s', 'IntraQuarter/_KeyStats/sai', 'IntraQuarter/_KeyStats/sbux', 'IntraQuarter/_KeyStats/scg', 'IntraQuarter/_KeyStats/schl', 'IntraQuarter/_KeyStats/schw', 'IntraQuarter/_KeyStats/sd', 'IntraQuarter/_KeyStats/se', 'IntraQuarter/_KeyStats/see', 'IntraQuarter/_KeyStats/sfly', 'IntraQuarter/_KeyStats/shld', 'IntraQuarter/_KeyStats/shw', 'IntraQuarter/_KeyStats/sial', 'IntraQuarter/_KeyStats/siri', 'IntraQuarter/_KeyStats/sjm', 'IntraQuarter/_KeyStats/sks', 'IntraQuarter/_KeyStats/slb', 'IntraQuarter/_KeyStats/slm', 'IntraQuarter/_KeyStats/sna', 'IntraQuarter/_KeyStats/sndk', 'IntraQuarter/_KeyStats/sne', 'IntraQuarter/_KeyStats/sni', 'IntraQuarter/_KeyStats/snts', 'IntraQuarter/_KeyStats/so', 'IntraQuarter/_KeyStats/spg', 'IntraQuarter/_KeyStats/spls', 'IntraQuarter/_KeyStats/srcl', 'IntraQuarter/_KeyStats/sre', 'IntraQuarter/_KeyStats/sti', 'IntraQuarter/_KeyStats/stj', 'IntraQuarter/_KeyStats/stt', 'IntraQuarter/_KeyStats/stx', 'IntraQuarter/_KeyStats/stz', 'IntraQuarter/_KeyStats/swk', 'IntraQuarter/_KeyStats/swn', 'IntraQuarter/_KeyStats/swy', 'IntraQuarter/_KeyStats/syk', 'IntraQuarter/_KeyStats/symc', 'IntraQuarter/_KeyStats/syy', 'IntraQuarter/_KeyStats/t', 'IntraQuarter/_KeyStats/tap', 'IntraQuarter/_KeyStats/tdc', 'IntraQuarter/_KeyStats/te', 'IntraQuarter/_KeyStats/teg', 'IntraQuarter/_KeyStats/tel', 'IntraQuarter/_KeyStats/ter', 'IntraQuarter/_KeyStats/tgt', 'IntraQuarter/_KeyStats/thc', 'IntraQuarter/_KeyStats/tibx', 'IntraQuarter/_KeyStats/tif', 'IntraQuarter/_KeyStats/tjx', 'IntraQuarter/_KeyStats/tm', 'IntraQuarter/_KeyStats/tmk', 'IntraQuarter/_KeyStats/tmo', 'IntraQuarter/_KeyStats/trip', 'IntraQuarter/_KeyStats/trow', 'IntraQuarter/_KeyStats/trv', 'IntraQuarter/_KeyStats/tsla', 'IntraQuarter/_KeyStats/tsn', 'IntraQuarter/_KeyStats/tso', 'IntraQuarter/_KeyStats/tss', 'IntraQuarter/_KeyStats/twc', 'IntraQuarter/_KeyStats/twx', 'IntraQuarter/_KeyStats/txn', 'IntraQuarter/_KeyStats/txt', 'IntraQuarter/_KeyStats/tyc', 'IntraQuarter/_KeyStats/ua', 'IntraQuarter/_KeyStats/unh', 'IntraQuarter/_KeyStats/unm', 'IntraQuarter/_KeyStats/unp', 'IntraQuarter/_KeyStats/ups', 'IntraQuarter/_KeyStats/urbn', 'IntraQuarter/_KeyStats/usb', 'IntraQuarter/_KeyStats/utx', 'IntraQuarter/_KeyStats/v', 'IntraQuarter/_KeyStats/vale', 'IntraQuarter/_KeyStats/var', 'IntraQuarter/_KeyStats/vfc', 'IntraQuarter/_KeyStats/viab', 'IntraQuarter/_KeyStats/vitc', 'IntraQuarter/_KeyStats/vlo', 'IntraQuarter/_KeyStats/vmc', 'IntraQuarter/_KeyStats/vno', 'IntraQuarter/_KeyStats/vprt', 'IntraQuarter/_KeyStats/vrsn', 'IntraQuarter/_KeyStats/vtr', 'IntraQuarter/_KeyStats/vz', 'IntraQuarter/_KeyStats/wag', 'IntraQuarter/_KeyStats/wat', 'IntraQuarter/_KeyStats/wdc', 'IntraQuarter/_KeyStats/wec', 'IntraQuarter/_KeyStats/wfc', 'IntraQuarter/_KeyStats/wfm', 'IntraQuarter/_KeyStats/wgo', 'IntraQuarter/_KeyStats/whr', 'IntraQuarter/_KeyStats/win', 'IntraQuarter/_KeyStats/wlp', 'IntraQuarter/_KeyStats/wm', 'IntraQuarter/_KeyStats/wmb', 'IntraQuarter/_KeyStats/wmt', 'IntraQuarter/_KeyStats/wpo', 'IntraQuarter/_KeyStats/wpx', 'IntraQuarter/_KeyStats/wtw', 'IntraQuarter/_KeyStats/wu', 'IntraQuarter/_KeyStats/wy', 'IntraQuarter/_KeyStats/wyn', 'IntraQuarter/_KeyStats/wynn', 'IntraQuarter/_KeyStats/x', 'IntraQuarter/_KeyStats/xel', 'IntraQuarter/_KeyStats/xl', 'IntraQuarter/_KeyStats/xlnx', 'IntraQuarter/_KeyStats/xom', 'IntraQuarter/_KeyStats/xray', 'IntraQuarter/_KeyStats/xrx', 'IntraQuarter/_KeyStats/xyl', 'IntraQuarter/_KeyStats/yhoo', 'IntraQuarter/_KeyStats/yum', 'IntraQuarter/_KeyStats/zion', 'IntraQuarter/_KeyStats/zlc', 'IntraQuarter/_KeyStats/zmh', 'IntraQuarter/_KeyStats/znga']\n"
     ]
    }
   ],
   "source": [
    "print([x[0] for x in os.walk(path+'/_KeyStats')])"
   ]
  },
  {
   "cell_type": "code",
   "execution_count": 26,
   "metadata": {
    "collapsed": false
   },
   "outputs": [
    {
     "data": {
      "text/plain": [
       "'nah'"
      ]
     },
     "execution_count": 26,
     "metadata": {},
     "output_type": "execute_result"
    }
   ],
   "source": [
    "# Ternary conditional syntax\n",
    "a = \"hey\" if False else \"nah\"\n",
    "a"
   ]
  },
  {
   "cell_type": "code",
   "execution_count": null,
   "metadata": {
    "collapsed": true
   },
   "outputs": [],
   "source": []
  }
 ],
 "metadata": {
  "kernelspec": {
   "display_name": "Python 3",
   "language": "python",
   "name": "python3"
  },
  "language_info": {
   "codemirror_mode": {
    "name": "ipython",
    "version": 3
   },
   "file_extension": ".py",
   "mimetype": "text/x-python",
   "name": "python",
   "nbconvert_exporter": "python",
   "pygments_lexer": "ipython3",
   "version": "3.4.3"
  }
 },
 "nbformat": 4,
 "nbformat_minor": 0
}
